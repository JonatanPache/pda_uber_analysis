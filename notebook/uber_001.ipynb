{
 "cells": [
  {
   "cell_type": "code",
   "execution_count": null,
   "id": "970dce58-22fe-4c55-9f73-47395f50f07f",
   "metadata": {},
   "outputs": [],
   "source": [
    "import pandas as pd\n",
    "import numpy as np\n",
    "import seaborn as sns\n",
    "import matplotlib.pyplot as ply\n",
    "import os\n"
   ]
  },
  {
   "cell_type": "code",
   "execution_count": 4,
   "id": "aacc99f9-e031-41c7-9c72-bb7ce0e7c366",
   "metadata": {},
   "outputs": [
    {
     "data": {
      "text/plain": [
       "['other-American_B01362.csv',\n",
       " 'other-Carmel_B00256.csv',\n",
       " 'other-Dial7_B00887.csv',\n",
       " 'other-Diplo_B01196.csv',\n",
       " 'other-Federal_02216.csv',\n",
       " 'other-FHV-services_jan-aug-2015.csv',\n",
       " 'other-Firstclass_B01536.csv',\n",
       " 'other-Highclass_B01717.csv',\n",
       " 'other-Lyft_B02510.csv',\n",
       " 'other-Prestige_B01338.csv',\n",
       " 'other-Skyline_B00111.csv',\n",
       " 'Uber-Jan-Feb-FOIL.csv',\n",
       " 'uber-raw-data-apr14.csv',\n",
       " 'uber-raw-data-aug14.csv',\n",
       " 'uber-raw-data-janjune-15.csv',\n",
       " 'uber-raw-data-janjune-15_sample.csv',\n",
       " 'uber-raw-data-jul14.csv',\n",
       " 'uber-raw-data-jun14.csv',\n",
       " 'uber-raw-data-may14.csv',\n",
       " 'uber-raw-data-sep14.csv']"
      ]
     },
     "execution_count": 4,
     "metadata": {},
     "output_type": "execute_result"
    }
   ],
   "source": [
    "os.listdir(r'/home/yeat/Documents/coding/py/pda_uber_basic_analysis/data/9 - Uber/Datasets/')"
   ]
  },
  {
   "cell_type": "code",
   "execution_count": 5,
   "id": "463318d3-7bce-415d-aaf4-9d45e124c060",
   "metadata": {},
   "outputs": [
    {
     "data": {
      "text/plain": [
       "(14270479, 4)"
      ]
     },
     "execution_count": 5,
     "metadata": {},
     "output_type": "execute_result"
    }
   ],
   "source": [
    "uber_15 = pd.read_csv(r'/home/yeat/Documents/coding/py/pda_uber_basic_analysis/data/9 - Uber/Datasets/uber-raw-data-janjune-15.csv')\n",
    "uber_15.shape"
   ]
  },
  {
   "cell_type": "code",
   "execution_count": 6,
   "id": "948f0007-b740-43c7-a524-cc05e6664045",
   "metadata": {},
   "outputs": [
    {
     "data": {
      "text/plain": [
       "np.int64(898225)"
      ]
     },
     "execution_count": 6,
     "metadata": {},
     "output_type": "execute_result"
    }
   ],
   "source": [
    "uber_15.duplicated().sum()"
   ]
  },
  {
   "cell_type": "code",
   "execution_count": 7,
   "id": "56bc2b82-f9d7-4e88-b6d2-506764c41bd0",
   "metadata": {},
   "outputs": [],
   "source": [
    "uber_15.drop_duplicates(inplace=True)"
   ]
  },
  {
   "cell_type": "code",
   "execution_count": 8,
   "id": "a8a534f5-4e6a-4d47-a335-03071bc8ef48",
   "metadata": {},
   "outputs": [
    {
     "data": {
      "text/plain": [
       "np.int64(0)"
      ]
     },
     "execution_count": 8,
     "metadata": {},
     "output_type": "execute_result"
    }
   ],
   "source": [
    "uber_15.duplicated().sum()"
   ]
  },
  {
   "cell_type": "code",
   "execution_count": 9,
   "id": "ff5620e7-a091-49ce-b734-6d00d8cdf101",
   "metadata": {},
   "outputs": [
    {
     "data": {
      "text/plain": [
       "(13372254, 4)"
      ]
     },
     "execution_count": 9,
     "metadata": {},
     "output_type": "execute_result"
    }
   ],
   "source": [
    "uber_15.shape"
   ]
  },
  {
   "cell_type": "code",
   "execution_count": 10,
   "id": "6fb20c7d-adb8-40a4-b59f-38679e7ccf8e",
   "metadata": {},
   "outputs": [
    {
     "data": {
      "text/plain": [
       "Dispatching_base_num    object\n",
       "Pickup_date             object\n",
       "Affiliated_base_num     object\n",
       "locationID               int64\n",
       "dtype: object"
      ]
     },
     "execution_count": 10,
     "metadata": {},
     "output_type": "execute_result"
    }
   ],
   "source": [
    "uber_15.dtypes"
   ]
  },
  {
   "cell_type": "code",
   "execution_count": 11,
   "id": "6651a67a-d193-4006-b7e6-70263498fa71",
   "metadata": {},
   "outputs": [
    {
     "data": {
      "text/plain": [
       "Dispatching_base_num         0\n",
       "Pickup_date                  0\n",
       "Affiliated_base_num     160702\n",
       "locationID                   0\n",
       "dtype: int64"
      ]
     },
     "execution_count": 11,
     "metadata": {},
     "output_type": "execute_result"
    }
   ],
   "source": [
    "uber_15.isnull().sum()"
   ]
  },
  {
   "cell_type": "code",
   "execution_count": 12,
   "id": "2bd53e9c-1e16-4566-bc10-01bc0346b738",
   "metadata": {},
   "outputs": [
    {
     "data": {
      "text/plain": [
       "0           2015-05-17 09:47:00\n",
       "1           2015-05-17 09:47:00\n",
       "2           2015-05-17 09:47:00\n",
       "3           2015-05-17 09:47:00\n",
       "4           2015-05-17 09:47:00\n",
       "                   ...         \n",
       "14270474    2015-05-08 15:43:00\n",
       "14270475    2015-05-08 15:43:00\n",
       "14270476    2015-05-08 15:43:00\n",
       "14270477    2015-05-08 15:44:00\n",
       "14270478    2015-05-08 15:44:00\n",
       "Name: Pickup_date, Length: 13372254, dtype: object"
      ]
     },
     "execution_count": 12,
     "metadata": {},
     "output_type": "execute_result"
    }
   ],
   "source": [
    "uber_15['Pickup_date']"
   ]
  },
  {
   "cell_type": "code",
   "execution_count": 13,
   "id": "c12e57a3-478e-4502-b209-d2906224e065",
   "metadata": {},
   "outputs": [
    {
     "data": {
      "text/plain": [
       "str"
      ]
     },
     "execution_count": 13,
     "metadata": {},
     "output_type": "execute_result"
    }
   ],
   "source": [
    "type(uber_15['Pickup_date'][0])"
   ]
  },
  {
   "cell_type": "code",
   "execution_count": 14,
   "id": "181c18cb-99ce-4470-8d72-208ca1dc75c4",
   "metadata": {},
   "outputs": [],
   "source": [
    "uber_15['Pickup_date'] = pd.to_datetime(uber_15['Pickup_date'])"
   ]
  },
  {
   "cell_type": "code",
   "execution_count": 15,
   "id": "255c1ef2-0aba-416f-89db-34e80efd927c",
   "metadata": {},
   "outputs": [
    {
     "data": {
      "text/plain": [
       "Dispatching_base_num            object\n",
       "Pickup_date             datetime64[ns]\n",
       "Affiliated_base_num             object\n",
       "locationID                       int64\n",
       "dtype: object"
      ]
     },
     "execution_count": 15,
     "metadata": {},
     "output_type": "execute_result"
    }
   ],
   "source": [
    "uber_15.dtypes"
   ]
  },
  {
   "cell_type": "code",
   "execution_count": 16,
   "id": "8bb14de1-d34e-4050-9a2c-01ba02b83329",
   "metadata": {},
   "outputs": [
    {
     "data": {
      "text/plain": [
       "pandas._libs.tslibs.timestamps.Timestamp"
      ]
     },
     "execution_count": 16,
     "metadata": {},
     "output_type": "execute_result"
    }
   ],
   "source": [
    "type(uber_15['Pickup_date'][0])"
   ]
  },
  {
   "cell_type": "code",
   "execution_count": 17,
   "id": "af0d246a-931f-4253-b43b-a4e0bdd8637e",
   "metadata": {},
   "outputs": [
    {
     "data": {
      "text/plain": [
       "dtype('<M8[ns]')"
      ]
     },
     "execution_count": 17,
     "metadata": {},
     "output_type": "execute_result"
    }
   ],
   "source": [
    "uber_15['Pickup_date'].dtype "
   ]
  },
  {
   "cell_type": "markdown",
   "id": "47b6084c-d96c-497f-9d33-7df5fdf864b9",
   "metadata": {},
   "source": [
    "# analysing which month have max Uber pickeds"
   ]
  },
  {
   "cell_type": "code",
   "execution_count": 18,
   "id": "1a42da12-d86f-4717-bdfa-6812a679acc5",
   "metadata": {},
   "outputs": [
    {
     "data": {
      "text/plain": [
       "0           5\n",
       "1           5\n",
       "2           5\n",
       "3           5\n",
       "4           5\n",
       "           ..\n",
       "14270474    5\n",
       "14270475    5\n",
       "14270476    5\n",
       "14270477    5\n",
       "14270478    5\n",
       "Name: Pickup_date, Length: 13372254, dtype: int32"
      ]
     },
     "execution_count": 18,
     "metadata": {},
     "output_type": "execute_result"
    }
   ],
   "source": [
    "uber_15['Pickup_date'].dt.month"
   ]
  },
  {
   "cell_type": "code",
   "execution_count": 19,
   "id": "f28b4d0d-71cf-425c-a022-9d97bda7f7e8",
   "metadata": {},
   "outputs": [
    {
     "data": {
      "text/plain": [
       "0           May\n",
       "1           May\n",
       "2           May\n",
       "3           May\n",
       "4           May\n",
       "           ... \n",
       "14270474    May\n",
       "14270475    May\n",
       "14270476    May\n",
       "14270477    May\n",
       "14270478    May\n",
       "Name: Pickup_date, Length: 13372254, dtype: object"
      ]
     },
     "execution_count": 19,
     "metadata": {},
     "output_type": "execute_result"
    }
   ],
   "source": [
    "uber_15['Pickup_date'].dt.month_name()"
   ]
  },
  {
   "cell_type": "code",
   "execution_count": 21,
   "id": "439873d4-5023-4c34-a190-409dee850185",
   "metadata": {},
   "outputs": [
    {
     "data": {
      "text/plain": [
       "month\n",
       "June        2571771\n",
       "May         2483980\n",
       "February    2222189\n",
       "April       2112705\n",
       "March       2062639\n",
       "January     1918970\n",
       "Name: count, dtype: int64"
      ]
     },
     "execution_count": 21,
     "metadata": {},
     "output_type": "execute_result"
    }
   ],
   "source": [
    "uber_15['month'].value_counts()"
   ]
  },
  {
   "cell_type": "code",
   "execution_count": 22,
   "id": "f112f812-4699-49fe-a111-11663a589ff1",
   "metadata": {},
   "outputs": [
    {
     "data": {
      "text/plain": [
       "<Axes: xlabel='month'>"
      ]
     },
     "execution_count": 22,
     "metadata": {},
     "output_type": "execute_result"
    },
    {
     "data": {
      "image/png": "[encoded data removed]",
      "text/plain": [
       "<Figure size 640x480 with 1 Axes>"
      ]
     },
     "metadata": {},
     "output_type": "display_data"
    }
   ],
   "source": [
    "uber_15['month'].value_counts().plot()"
   ]
  },
  {
   "cell_type": "code",
   "execution_count": 23,
   "id": "bead5f94-1f67-47df-b0fd-392315d80dd1",
   "metadata": {},
   "outputs": [
    {
     "data": {
      "text/plain": [
       "<Axes: xlabel='month'>"
      ]
     },
     "execution_count": 23,
     "metadata": {},
     "output_type": "execute_result"
    },
    {
     "data": {
      "image/png": "[encoded data removed]",
      "text/plain": [
       "<Figure size 640x480 with 1 Axes>"
      ]
     },
     "metadata": {},
     "output_type": "display_data"
    }
   ],
   "source": [
    "uber_15['month'].value_counts().plot(kind='bar')"
   ]
  },
  {
   "cell_type": "code",
   "execution_count": 25,
   "id": "3612bb8f-1dbb-449a-82a3-a724a78f15ec",
   "metadata": {},
   "outputs": [
    {
     "data": {
      "text/plain": [
       "0           Sunday\n",
       "1           Sunday\n",
       "2           Sunday\n",
       "3           Sunday\n",
       "4           Sunday\n",
       "             ...  \n",
       "14270474    Friday\n",
       "14270475    Friday\n",
       "14270476    Friday\n",
       "14270477    Friday\n",
       "14270478    Friday\n",
       "Name: Pickup_date, Length: 13372254, dtype: object"
      ]
     },
     "execution_count": 25,
     "metadata": {},
     "output_type": "execute_result"
    }
   ],
   "source": [
    "uber_15['Pickup_date'].dt.day_name()"
   ]
  },
  {
   "cell_type": "code",
   "execution_count": 27,
   "id": "935dd9b8-4f8c-457e-8356-70fb0608eba0",
   "metadata": {},
   "outputs": [],
   "source": [
    "uber_15['weekday'] = uber_15['Pickup_date'].dt.day_name()\n",
    "uber_15['day'] = uber_15['Pickup_date'].dt.day\n",
    "uber_15['hour'] = uber_15['Pickup_date'].dt.hour\n",
    "uber_15['minute'] = uber_15['Pickup_date'].dt.minute\n"
   ]
  },
  {
   "cell_type": "code",
   "execution_count": 28,
   "id": "6a14b1a0-cbaf-4d4e-a7e1-88c0d3407a4e",
   "metadata": {},
   "outputs": [
    {
     "data": {
      "text/html": [
       "<div>\n",
       "<style scoped>\n",
       "    .dataframe tbody tr th:only-of-type {\n",
       "        vertical-align: middle;\n",
       "    }\n",
       "\n",
       "    .dataframe tbody tr th {\n",
       "        vertical-align: top;\n",
       "    }\n",
       "\n",
       "    .dataframe thead th {\n",
       "        text-align: right;\n",
       "    }\n",
       "</style>\n",
       "<table border=\"1\" class=\"dataframe\">\n",
       "  <thead>\n",
       "    <tr style=\"text-align: right;\">\n",
       "      <th></th>\n",
       "      <th>Dispatching_base_num</th>\n",
       "      <th>Pickup_date</th>\n",
       "      <th>Affiliated_base_num</th>\n",
       "      <th>locationID</th>\n",
       "      <th>month</th>\n",
       "      <th>weekday</th>\n",
       "      <th>day</th>\n",
       "      <th>hour</th>\n",
       "      <th>minute</th>\n",
       "    </tr>\n",
       "  </thead>\n",
       "  <tbody>\n",
       "    <tr>\n",
       "      <th>0</th>\n",
       "      <td>B02617</td>\n",
       "      <td>2015-05-17 09:47:00</td>\n",
       "      <td>B02617</td>\n",
       "      <td>141</td>\n",
       "      <td>May</td>\n",
       "      <td>Sunday</td>\n",
       "      <td>17</td>\n",
       "      <td>9</td>\n",
       "      <td>47</td>\n",
       "    </tr>\n",
       "    <tr>\n",
       "      <th>1</th>\n",
       "      <td>B02617</td>\n",
       "      <td>2015-05-17 09:47:00</td>\n",
       "      <td>B02617</td>\n",
       "      <td>65</td>\n",
       "      <td>May</td>\n",
       "      <td>Sunday</td>\n",
       "      <td>17</td>\n",
       "      <td>9</td>\n",
       "      <td>47</td>\n",
       "    </tr>\n",
       "    <tr>\n",
       "      <th>2</th>\n",
       "      <td>B02617</td>\n",
       "      <td>2015-05-17 09:47:00</td>\n",
       "      <td>B02617</td>\n",
       "      <td>100</td>\n",
       "      <td>May</td>\n",
       "      <td>Sunday</td>\n",
       "      <td>17</td>\n",
       "      <td>9</td>\n",
       "      <td>47</td>\n",
       "    </tr>\n",
       "    <tr>\n",
       "      <th>3</th>\n",
       "      <td>B02617</td>\n",
       "      <td>2015-05-17 09:47:00</td>\n",
       "      <td>B02774</td>\n",
       "      <td>80</td>\n",
       "      <td>May</td>\n",
       "      <td>Sunday</td>\n",
       "      <td>17</td>\n",
       "      <td>9</td>\n",
       "      <td>47</td>\n",
       "    </tr>\n",
       "  </tbody>\n",
       "</table>\n",
       "</div>"
      ],
      "text/plain": [
       "  Dispatching_base_num         Pickup_date Affiliated_base_num  locationID  \\\n",
       "0               B02617 2015-05-17 09:47:00              B02617         141   \n",
       "1               B02617 2015-05-17 09:47:00              B02617          65   \n",
       "2               B02617 2015-05-17 09:47:00              B02617         100   \n",
       "3               B02617 2015-05-17 09:47:00              B02774          80   \n",
       "\n",
       "  month weekday  day  hour  minute  \n",
       "0   May  Sunday   17     9      47  \n",
       "1   May  Sunday   17     9      47  \n",
       "2   May  Sunday   17     9      47  \n",
       "3   May  Sunday   17     9      47  "
      ]
     },
     "execution_count": 28,
     "metadata": {},
     "output_type": "execute_result"
    }
   ],
   "source": [
    "uber_15.head(4)"
   ]
  },
  {
   "cell_type": "code",
   "execution_count": 30,
   "id": "523eb1b4-f94b-48ab-9a03-b007bcaec865",
   "metadata": {},
   "outputs": [],
   "source": [
    "pivot = pd.crosstab(index = uber_15['month'], columns = uber_15['weekday'])"
   ]
  },
  {
   "cell_type": "code",
   "execution_count": 31,
   "id": "3f989e03-0056-431e-8df7-5c42207fa5a0",
   "metadata": {},
   "outputs": [
    {
     "data": {
      "text/html": [
       "<div>\n",
       "<style scoped>\n",
       "    .dataframe tbody tr th:only-of-type {\n",
       "        vertical-align: middle;\n",
       "    }\n",
       "\n",
       "    .dataframe tbody tr th {\n",
       "        vertical-align: top;\n",
       "    }\n",
       "\n",
       "    .dataframe thead th {\n",
       "        text-align: right;\n",
       "    }\n",
       "</style>\n",
       "<table border=\"1\" class=\"dataframe\">\n",
       "  <thead>\n",
       "    <tr style=\"text-align: right;\">\n",
       "      <th>weekday</th>\n",
       "      <th>Friday</th>\n",
       "      <th>Monday</th>\n",
       "      <th>Saturday</th>\n",
       "      <th>Sunday</th>\n",
       "      <th>Thursday</th>\n",
       "      <th>Tuesday</th>\n",
       "      <th>Wednesday</th>\n",
       "    </tr>\n",
       "    <tr>\n",
       "      <th>month</th>\n",
       "      <th></th>\n",
       "      <th></th>\n",
       "      <th></th>\n",
       "      <th></th>\n",
       "      <th></th>\n",
       "      <th></th>\n",
       "      <th></th>\n",
       "    </tr>\n",
       "  </thead>\n",
       "  <tbody>\n",
       "    <tr>\n",
       "      <th>April</th>\n",
       "      <td>315002</td>\n",
       "      <td>238429</td>\n",
       "      <td>324545</td>\n",
       "      <td>273560</td>\n",
       "      <td>372522</td>\n",
       "      <td>250632</td>\n",
       "      <td>338015</td>\n",
       "    </tr>\n",
       "    <tr>\n",
       "      <th>February</th>\n",
       "      <td>373550</td>\n",
       "      <td>274948</td>\n",
       "      <td>368311</td>\n",
       "      <td>296130</td>\n",
       "      <td>335603</td>\n",
       "      <td>287260</td>\n",
       "      <td>286387</td>\n",
       "    </tr>\n",
       "    <tr>\n",
       "      <th>January</th>\n",
       "      <td>339285</td>\n",
       "      <td>190606</td>\n",
       "      <td>386049</td>\n",
       "      <td>230487</td>\n",
       "      <td>330319</td>\n",
       "      <td>196574</td>\n",
       "      <td>245650</td>\n",
       "    </tr>\n",
       "    <tr>\n",
       "      <th>June</th>\n",
       "      <td>371225</td>\n",
       "      <td>375312</td>\n",
       "      <td>399377</td>\n",
       "      <td>334434</td>\n",
       "      <td>357782</td>\n",
       "      <td>405500</td>\n",
       "      <td>328141</td>\n",
       "    </tr>\n",
       "    <tr>\n",
       "      <th>March</th>\n",
       "      <td>309631</td>\n",
       "      <td>269931</td>\n",
       "      <td>314785</td>\n",
       "      <td>313865</td>\n",
       "      <td>277026</td>\n",
       "      <td>320634</td>\n",
       "      <td>256767</td>\n",
       "    </tr>\n",
       "    <tr>\n",
       "      <th>May</th>\n",
       "      <td>430134</td>\n",
       "      <td>255501</td>\n",
       "      <td>464298</td>\n",
       "      <td>390391</td>\n",
       "      <td>337607</td>\n",
       "      <td>290004</td>\n",
       "      <td>316045</td>\n",
       "    </tr>\n",
       "  </tbody>\n",
       "</table>\n",
       "</div>"
      ],
      "text/plain": [
       "weekday   Friday  Monday  Saturday  Sunday  Thursday  Tuesday  Wednesday\n",
       "month                                                                   \n",
       "April     315002  238429    324545  273560    372522   250632     338015\n",
       "February  373550  274948    368311  296130    335603   287260     286387\n",
       "January   339285  190606    386049  230487    330319   196574     245650\n",
       "June      371225  375312    399377  334434    357782   405500     328141\n",
       "March     309631  269931    314785  313865    277026   320634     256767\n",
       "May       430134  255501    464298  390391    337607   290004     316045"
      ]
     },
     "execution_count": 31,
     "metadata": {},
     "output_type": "execute_result"
    }
   ],
   "source": [
    "pivot"
   ]
  },
  {
   "cell_type": "code",
   "execution_count": 32,
   "id": "344b3fe0-a321-484a-9147-44484a43f567",
   "metadata": {},
   "outputs": [
    {
     "data": {
      "text/plain": [
       "<Axes: xlabel='month'>"
      ]
     },
     "execution_count": 32,
     "metadata": {},
     "output_type": "execute_result"
    },
    {
     "data": {
      "image/png": "[encoded data removed]",
      "text/plain": [
       "<Figure size 640x480 with 1 Axes>"
      ]
     },
     "metadata": {},
     "output_type": "display_data"
    }
   ],
   "source": [
    "pivot.plot(kind='bar')"
   ]
  },
  {
   "cell_type": "code",
   "execution_count": 33,
   "id": "bded918f-cd1a-450d-82fb-cadbbe5c6c99",
   "metadata": {},
   "outputs": [
    {
     "data": {
      "text/plain": [
       "<Axes: xlabel='month'>"
      ]
     },
     "execution_count": 33,
     "metadata": {},
     "output_type": "execute_result"
    },
    {
     "data": {
      "image/png": "[encoded data removed]",
      "text/plain": [
       "<Figure size 800x600 with 1 Axes>"
      ]
     },
     "metadata": {},
     "output_type": "display_data"
    }
   ],
   "source": [
    "pivot.plot(kind='bar', figsize=(8,6))"
   ]
  }
 ],
 "metadata": {
  "kernelspec": {
   "display_name": "Python 3 (ipykernel)",
   "language": "python",
   "name": "python3"
  },
  "language_info": {
   "codemirror_mode": {
    "name": "ipython",
    "version": 3
   },
   "file_extension": ".py",
   "mimetype": "text/x-python",
   "name": "python",
   "nbconvert_exporter": "python",
   "pygments_lexer": "ipython3",
   "version": "3.13.2"
  }
 },
 "nbformat": 4,
 "nbformat_minor": 5
}
